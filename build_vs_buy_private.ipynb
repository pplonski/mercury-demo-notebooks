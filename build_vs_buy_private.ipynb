{
 "cells": [
  {
   "cell_type": "raw",
   "id": "142b2b65",
   "metadata": {},
   "source": [
    "---\n",
    "title: Buy 💸 vs build 🛠️ (private)\n",
    "description: Buy vs build calculator\n",
    "show-code: False\n",
    "share: private\n",
    "params:\n",
    "    license_type:\n",
    "        input: select\n",
    "        label: Please select license\n",
    "        value: Small Business\n",
    "        choices: [Personal, Small Business, Enterprise]\n",
    "    employees:\n",
    "        input: slider\n",
    "        label: Number of employees required\n",
    "        value: 2\n",
    "        min: 1\n",
    "        max: 5\n",
    "    salary:\n",
    "        input: slider\n",
    "        label: Average employee salary\n",
    "        value: 90000\n",
    "        min: 10000\n",
    "        max: 300000\n",
    "    days_to_build:\n",
    "        input: slider\n",
    "        label: Days to build\n",
    "        value: 5\n",
    "        min: 1\n",
    "        max: 30\n",
    "    days_maintenance:\n",
    "        input: slider\n",
    "        label: Days per month for maintenance\n",
    "        value: 1\n",
    "        min: 0\n",
    "        max: 5\n",
    "---"
   ]
  },
  {
   "cell_type": "code",
   "execution_count": 1,
   "id": "9357650e",
   "metadata": {},
   "outputs": [],
   "source": [
    "from bloxs import B\n",
    "from IPython.display import Markdown as md"
   ]
  },
  {
   "cell_type": "code",
   "execution_count": 2,
   "id": "14b678f2",
   "metadata": {},
   "outputs": [],
   "source": [
    "license_type = \"Small Business\"\n",
    "employees = 2\n",
    "salary = 90000\n",
    "days_to_build = 5\n",
    "days_maintenance = 1"
   ]
  },
  {
   "cell_type": "code",
   "execution_count": 3,
   "id": "7e2fb612",
   "metadata": {},
   "outputs": [],
   "source": [
    "# Constants\n",
    "WORKING_DAYS_YEAR = 261.0\n",
    "LICENSE_COST = {\"Personal\": 199, \"Small Business\": 995, \"Enterprise\": 9500}"
   ]
  },
  {
   "cell_type": "code",
   "execution_count": 4,
   "id": "4e608bc3",
   "metadata": {},
   "outputs": [
    {
     "data": {
      "text/html": [
       "<div style=\"display: flex; background: #fff\">\n",
       "<div style=\"text-align: center; width: 34%; border: 1px solid #e5e5e5; margin: 10px; padding-top: 40px; padding-bottom: 40px; background: white; border-radius:5px\">\n",
       "  <span style=\"font-size: 4em; color: #5a5a5a; font-family: monospace; \">📜</span>\n",
       "  \n",
       "  <span style=\"font-size: 2em; color: gray; display: block; padding-top: 20px; font-family: monospace;\">Small Business</span>\n",
       "  \n",
       "  \n",
       "</div>\n",
       "\n",
       "  \n",
       "  \n",
       "<div style=\"text-align: center; width: 34%; border: 1px solid #e5e5e5; margin: 10px; padding-top: 40px; padding-bottom: 40px; background: white; border-radius:5px\">\n",
       "  <span style=\"font-size: 4em; color: #5a5a5a; font-family: monospace; \">$995</span>\n",
       "  \n",
       "  <span style=\"font-size: 2em; color: gray; display: block; padding-top: 20px; font-family: monospace;\">License cost</span>\n",
       "  \n",
       "  \n",
       "</div>\n",
       "\n",
       "  \n",
       "  \n",
       "<div style=\"text-align: center; width: 34%; border: 1px solid #e5e5e5; margin: 10px; padding-top: 40px; padding-bottom: 40px; background: white; border-radius:5px\">\n",
       "  <span style=\"font-size: 4em; color: #5a5a5a; font-family: monospace; \">💸 🛠️</span>\n",
       "  \n",
       "  <span style=\"font-size: 2em; color: gray; display: block; padding-top: 20px; font-family: monospace;\">Buy vs build</span>\n",
       "  \n",
       "  \n",
       "</div>\n",
       "\n",
       "  \n",
       "  </div>"
      ],
      "text/plain": [
       "<bloxs.bloxs.B at 0x7f8b584e1280>"
      ]
     },
     "execution_count": 4,
     "metadata": {},
     "output_type": "execute_result"
    }
   ],
   "source": [
    "B([\n",
    "    B(\"📜\", title=license_type),\n",
    "    B(f\"${LICENSE_COST[license_type]}\", title=\"License cost\"),\n",
    "    B(\"💸 🛠️\", \"Buy vs build\")\n",
    "])"
   ]
  },
  {
   "cell_type": "code",
   "execution_count": 5,
   "id": "4b6eec66",
   "metadata": {},
   "outputs": [],
   "source": [
    "cost_to_build = days_to_build * employees * salary / WORKING_DAYS_YEAR"
   ]
  },
  {
   "cell_type": "code",
   "execution_count": 6,
   "id": "268729fe",
   "metadata": {},
   "outputs": [],
   "source": [
    "annual_maintenance = 12 * days_maintenance * salary / WORKING_DAYS_YEAR"
   ]
  },
  {
   "cell_type": "code",
   "execution_count": 7,
   "id": "cdf6f3b2",
   "metadata": {},
   "outputs": [],
   "source": [
    "saved_annually = LICENSE_COST[license_type] - (cost_to_build + annual_maintenance)"
   ]
  },
  {
   "cell_type": "code",
   "execution_count": 8,
   "id": "8dcb0c00",
   "metadata": {},
   "outputs": [
    {
     "data": {
      "text/html": [
       "<div style=\"display: flex; background: #fff\">\n",
       "<div style=\"text-align: center; width: 34%; border: 1px solid #e5e5e5; margin: 10px; padding-top: 40px; padding-bottom: 40px; background: white; border-radius:5px\">\n",
       "  <span style=\"font-size: 4em; color: #5a5a5a; font-family: monospace; \">$3,448</span>\n",
       "  \n",
       "  <span style=\"font-size: 2em; color: gray; display: block; padding-top: 20px; font-family: monospace;\">Cost to build</span>\n",
       "  \n",
       "  \n",
       "</div>\n",
       "\n",
       "  \n",
       "  \n",
       "<div style=\"text-align: center; width: 34%; border: 1px solid #e5e5e5; margin: 10px; padding-top: 40px; padding-bottom: 40px; background: white; border-radius:5px\">\n",
       "  <span style=\"font-size: 4em; color: #5a5a5a; font-family: monospace; \">$4,138</span>\n",
       "  \n",
       "  <span style=\"font-size: 2em; color: gray; display: block; padding-top: 20px; font-family: monospace;\">Annual Maintenance</span>\n",
       "  \n",
       "  \n",
       "</div>\n",
       "\n",
       "  \n",
       "  \n",
       "<div style=\"text-align: center; width: 34%; border: 1px solid #e5e5e5; margin: 10px; padding-top: 40px; padding-bottom: 40px; background: white; border-radius:5px\">\n",
       "  <span style=\"font-size: 4em; color: #5a5a5a; font-family: monospace; \">$-6,591</span>\n",
       "  \n",
       "  <span style=\"font-size: 2em; color: gray; display: block; padding-top: 20px; font-family: monospace;\">Saved annually</span>\n",
       "  \n",
       "  \n",
       "</div>\n",
       "\n",
       "  \n",
       "  </div>"
      ],
      "text/plain": [
       "<bloxs.bloxs.B at 0x7f8b584f3070>"
      ]
     },
     "execution_count": 8,
     "metadata": {},
     "output_type": "execute_result"
    }
   ],
   "source": [
    "B([\n",
    "    B(f\"${round(cost_to_build):,}\", title=\"Cost to build\"),\n",
    "    B(f\"${round(annual_maintenance):,}\", title=\"Annual Maintenance\"),\n",
    "    B(f\"${round(saved_annually):,}\", title=\"Saved annually\"),\n",
    "])"
   ]
  },
  {
   "cell_type": "code",
   "execution_count": 9,
   "id": "a00f01a1",
   "metadata": {},
   "outputs": [],
   "source": [
    "txt = \"# It is better to buy the software! 💸\"\n",
    "if saved_annually > 0:\n",
    "    txt = \"# It is better to build the solution! 🛠️\""
   ]
  },
  {
   "cell_type": "code",
   "execution_count": 10,
   "id": "0681c7ea",
   "metadata": {},
   "outputs": [
    {
     "data": {
      "text/markdown": [
       "# It is better to buy the software! 💸"
      ],
      "text/plain": [
       "<IPython.core.display.Markdown object>"
      ]
     },
     "execution_count": 10,
     "metadata": {},
     "output_type": "execute_result"
    }
   ],
   "source": [
    "md(txt)"
   ]
  },
  {
   "cell_type": "code",
   "execution_count": null,
   "id": "112853f8",
   "metadata": {},
   "outputs": [],
   "source": []
  }
 ],
 "metadata": {
  "kernelspec": {
   "display_name": "demo_venv",
   "language": "python",
   "name": "demo_venv"
  },
  "language_info": {
   "codemirror_mode": {
    "name": "ipython",
    "version": 3
   },
   "file_extension": ".py",
   "mimetype": "text/x-python",
   "name": "python",
   "nbconvert_exporter": "python",
   "pygments_lexer": "ipython3",
   "version": "3.8.10"
  }
 },
 "nbformat": 4,
 "nbformat_minor": 5
}
