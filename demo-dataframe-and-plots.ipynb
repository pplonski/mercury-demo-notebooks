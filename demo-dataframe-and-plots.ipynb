{
 "cells": [
  {
   "cell_type": "code",
   "execution_count": null,
   "id": "a5c57227",
   "metadata": {},
   "outputs": [],
   "source": [
    "import pandas as pd\n",
    "import numpy as np\n",
    "from matplotlib import pyplot as plt"
   ]
  },
  {
   "cell_type": "code",
   "execution_count": null,
   "id": "ae17d1cf",
   "metadata": {},
   "outputs": [],
   "source": [
    "import mercury as mr"
   ]
  },
  {
   "cell_type": "code",
   "execution_count": null,
   "id": "85407e67",
   "metadata": {},
   "outputs": [],
   "source": [
    "# control app with App class\n",
    "app = mr.App(title=\"DataFrame & Plots 🚀\", description=\"Showcase of Mercury Widgets\", show_code = False)"
   ]
  },
  {
   "cell_type": "markdown",
   "id": "7af9618b",
   "metadata": {},
   "source": [
    "# DataFrame and Plots 🎲📊\n",
    "\n",
    "Share your notebooks with everyone thanks to Mercury framework.\n",
    "\n",
    "Please change number of samples and number of features in the left side bar. Notebook will be recomputed after widget change."
   ]
  },
  {
   "cell_type": "code",
   "execution_count": null,
   "id": "e0ce7dd7",
   "metadata": {},
   "outputs": [],
   "source": [
    "samples = mr.Slider(label=\"Number of samples\", min=50, max=100, value=75)\n",
    "features = mr.Select(label=\"Number of features\", choices=[\"5\", \"10\", \"15\"], value=\"10\")"
   ]
  },
  {
   "cell_type": "code",
   "execution_count": null,
   "id": "a37e88c1",
   "metadata": {},
   "outputs": [],
   "source": [
    "data = {}\n",
    "for i in range(int(features.value)):\n",
    "    data[f\"Feature {i}\"] = np.random.rand(samples.value)\n",
    "df = pd.DataFrame(data)"
   ]
  },
  {
   "cell_type": "markdown",
   "id": "4df7d587",
   "metadata": {},
   "source": [
    "## Random data 🎲"
   ]
  },
  {
   "cell_type": "code",
   "execution_count": null,
   "id": "4def82fc",
   "metadata": {},
   "outputs": [],
   "source": [
    "df"
   ]
  },
  {
   "cell_type": "markdown",
   "id": "88d2de13",
   "metadata": {},
   "source": [
    "## Scatter plot 📈"
   ]
  },
  {
   "cell_type": "code",
   "execution_count": null,
   "id": "ab388ab2",
   "metadata": {},
   "outputs": [],
   "source": [
    "_ = plt.plot(df[\"Feature 1\"], df[\"Feature 2\"], '*')"
   ]
  },
  {
   "cell_type": "markdown",
   "id": "b84deb9b",
   "metadata": {},
   "source": [
    "## Random data histogram 📊"
   ]
  },
  {
   "cell_type": "code",
   "execution_count": null,
   "id": "2733d83f",
   "metadata": {},
   "outputs": [],
   "source": [
    "_ = plt.hist(df[\"Feature 1\"], bins=40)"
   ]
  }
 ],
 "metadata": {},
 "nbformat": 4,
 "nbformat_minor": 5
}
