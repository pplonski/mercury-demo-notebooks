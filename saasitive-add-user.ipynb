{
 "cells": [
  {
   "cell_type": "code",
   "execution_count": 2,
   "id": "66b0779e",
   "metadata": {},
   "outputs": [],
   "source": [
    "import mercury as mr"
   ]
  },
  {
   "cell_type": "code",
   "execution_count": 3,
   "id": "7bbfd6de",
   "metadata": {},
   "outputs": [
    {
     "data": {
      "application/mercury+json": "{\n    \"widget\": \"App\",\n    \"title\": \"SaaSitive new user \\ud83e\\udd13\",\n    \"description\": \"Add access to monitor-uptime private repository to a new user\",\n    \"show_code\": false,\n    \"show_prompt\": false,\n    \"share\": \"public\",\n    \"output\": \"app\",\n    \"slug\": \"\",\n    \"schedule\": \"\",\n    \"notify\": \"{}\",\n    \"continuous_update\": true,\n    \"static_notebook\": false,\n    \"model_id\": \"mercury-app\",\n    \"code_uid\": \"App.0.32.23.1\"\n}",
      "text/html": [
       "<h3>Mercury Application</h3><small>This output won't appear in the web app.</small>"
      ],
      "text/plain": [
       "mercury.App"
      ]
     },
     "metadata": {},
     "output_type": "display_data"
    }
   ],
   "source": [
    "app = mr.App(title=\"SaaSitive new user 🤓\", \n",
    "             description=\"Add access to monitor-uptime private repository to a new user\")"
   ]
  },
  {
   "cell_type": "code",
   "execution_count": 6,
   "id": "21ce6a51",
   "metadata": {},
   "outputs": [
    {
     "data": {
      "application/mercury+json": "{\n    \"widget\": \"Note\",\n    \"value\": \"Please provide email address used during purchase and GitHub username.\",\n    \"model_id\": \"Note.0.32.17.1\",\n    \"code_uid\": \"Note.0.32.17.1\"\n}",
      "text/markdown": [
       "Please provide email address used during purchase and GitHub username."
      ],
      "text/plain": [
       "mercury.Note"
      ]
     },
     "metadata": {},
     "output_type": "display_data"
    }
   ],
   "source": [
    "_ = mr.Note(\"Please provide email address used during purchase and GitHub username.\")"
   ]
  },
  {
   "cell_type": "code",
   "execution_count": 7,
   "id": "13070526",
   "metadata": {},
   "outputs": [
    {
     "data": {
      "application/mercury+json": "{\n    \"widget\": \"Text\",\n    \"value\": \"\",\n    \"rows\": 1,\n    \"label\": \"Email used during purchase\",\n    \"model_id\": \"781e707d549249408d32d75de26bf8e0\",\n    \"code_uid\": \"Text.0.32.13.1\"\n}",
      "application/vnd.jupyter.widget-view+json": {
       "model_id": "781e707d549249408d32d75de26bf8e0",
       "version_major": 2,
       "version_minor": 0
      },
      "text/plain": [
       "mercury.Text"
      ]
     },
     "metadata": {},
     "output_type": "display_data"
    },
    {
     "data": {
      "application/mercury+json": "{\n    \"widget\": \"Text\",\n    \"value\": \"\",\n    \"rows\": 1,\n    \"label\": \"GitHub username\",\n    \"model_id\": \"523ea684b637400f8bc17041c45e7247\",\n    \"code_uid\": \"Text.0.32.13.2\"\n}",
      "application/vnd.jupyter.widget-view+json": {
       "model_id": "523ea684b637400f8bc17041c45e7247",
       "version_major": 2,
       "version_minor": 0
      },
      "text/plain": [
       "mercury.Text"
      ]
     },
     "metadata": {},
     "output_type": "display_data"
    }
   ],
   "source": [
    "subscriber_email = mr.Text(label=\"Email used during purchase\", value=\"\")\n",
    "new_github_user = mr.Text(label=\"GitHub username\", value=\"\")"
   ]
  },
  {
   "cell_type": "markdown",
   "id": "589b6d0e",
   "metadata": {},
   "source": [
    "# SaaSitive new user\n",
    "\n",
    "Thanks for choosing <a href=\"https://saasitive.com\" target=\"_blank\">SaaSitive</a> <a href=\"https://saasitive.com/react-django-tutorial/\" target=\"_blank\">React and Django tutorial on how to build real SaaS product</a>! \n",
    "\n",
    "Steps get access to the private repository ([github.com/saasitive/monitor-uptime](https://github.com/saasitive/monitor-uptime)):\n",
    "\n",
    "1. Please purchase [course](https://saasitive.com/pricing).\n",
    "2. Please provide email address used during purchase and your GitHub username in the left sidebar and click `Run`.\n",
    "3. The notebook will check if your email is in the customers list.\n",
    "4. If you are customer to SaaSitive course, your GitHub username will be added to collaborators list for monitor-uptime repository.\n",
    "\n",
    "In the case of any questions please contact us by email `contact@saasitive.com`."
   ]
  },
  {
   "cell_type": "code",
   "execution_count": null,
   "id": "47fd5765",
   "metadata": {},
   "outputs": [],
   "source": [
    "import os\n",
    "import json\n",
    "import requests\n",
    "from dotenv import load_dotenv"
   ]
  },
  {
   "cell_type": "code",
   "execution_count": null,
   "id": "e8f6ade8",
   "metadata": {},
   "outputs": [],
   "source": [
    "_ = load_dotenv()"
   ]
  },
  {
   "cell_type": "code",
   "execution_count": null,
   "id": "67052fb2",
   "metadata": {},
   "outputs": [],
   "source": [
    "ok = True  # flag to control execution"
   ]
  },
  {
   "cell_type": "code",
   "execution_count": null,
   "id": "67aa54d7",
   "metadata": {},
   "outputs": [],
   "source": [
    "if subscriber_email == \"\" or \"@\" not in subscriber_email:\n",
    "    print(\"Please provide email address\")\n",
    "    ok = False\n",
    "if new_github_user == \"\":\n",
    "    print(\"Please provide GitHub username\")\n",
    "    ok = False"
   ]
  },
  {
   "cell_type": "code",
   "execution_count": null,
   "id": "fd9dbd0f",
   "metadata": {},
   "outputs": [],
   "source": [
    "if ok:\n",
    "    response = requests.get(f\"https://api.github.com/users/{new_github_user}\").json()\n",
    "    if response.get(\"message\", \"\") == \"Not Found\":\n",
    "        print(f\"The username {new_github_user} does not exist in the GitHub.\")\n",
    "        ok = False"
   ]
  },
  {
   "cell_type": "code",
   "execution_count": null,
   "id": "a7a0a01f",
   "metadata": {},
   "outputs": [],
   "source": [
    "PADDLE_VENDOR_ID = os.environ.get(\"PADDLE_VENDOR_ID\")\n",
    "PADDLE_AUTH_CODE = os.environ.get(\"PADDLE_AUTH_CODE\")\n",
    "GITHUB_TOKEN = os.environ.get(\"GITHUB_TOKEN\")"
   ]
  },
  {
   "cell_type": "code",
   "execution_count": null,
   "id": "c7dd23b5",
   "metadata": {},
   "outputs": [],
   "source": [
    "if PADDLE_VENDOR_ID is None:\n",
    "    print(\"Please provide PADDLE_VENDOR_ID environment variable\")\n",
    "    ok = False\n",
    "if PADDLE_AUTH_CODE is None:\n",
    "    print(\"Please provide PADDLE_AUTH_CODE environment variable\")\n",
    "    ok = False\n",
    "if GITHUB_TOKEN is None:\n",
    "    print(\"Please provide GITHUB_TOKEN environment variable\")\n",
    "    ok = False"
   ]
  },
  {
   "cell_type": "code",
   "execution_count": null,
   "id": "1797c1b4",
   "metadata": {},
   "outputs": [],
   "source": [
    "if ok:\n",
    "    data = {\"vendor_id\": PADDLE_VENDOR_ID, \"vendor_auth_code\": PADDLE_AUTH_CODE}\n",
    "    response = requests.post(\n",
    "        \"https://vendors.paddle.com/api/2.0/product/777901/transactions\", data=data\n",
    "    )\n",
    "    if response.status_code != 200:\n",
    "        print(\"Cant load list of avialable users. Sorry!\")\n",
    "        ok = False"
   ]
  },
  {
   "cell_type": "code",
   "execution_count": null,
   "id": "9645b04d",
   "metadata": {},
   "outputs": [],
   "source": [
    "active_emails = []\n",
    "if ok:\n",
    "    if response.status_code == 200:\n",
    "        customers = response.json()[\"response\"]\n",
    "        for customer in customers:\n",
    "            if customer[\"status\"] == \"completed\":\n",
    "                active_emails += [customer[\"user\"][\"email\"]]"
   ]
  },
  {
   "cell_type": "code",
   "execution_count": null,
   "id": "e4427bb5",
   "metadata": {},
   "outputs": [],
   "source": [
    "if ok:\n",
    "    if not subscriber_email in active_emails:\n",
    "        print(f\"The address {subscriber_email} is not in the customer list\")\n",
    "        ok = False"
   ]
  },
  {
   "cell_type": "code",
   "execution_count": null,
   "id": "7081264c",
   "metadata": {},
   "outputs": [],
   "source": [
    "if ok:\n",
    "    response = requests.put(\n",
    "        f\"https://api.github.com/repos/saasitive/monitor-uptime/collaborators/{new_github_user}\",\n",
    "        headers={\n",
    "            \"Authorization\": f\"token {GITHUB_TOKEN}\",\n",
    "            \"Accept\": \"application/vnd.github+json\",\n",
    "        },\n",
    "        data=json.dumps({\"permission\": \"pull\"}),\n",
    "    )\n",
    "\n",
    "    if response.status_code == 204:\n",
    "        print(\n",
    "            \"Success, you should be able to access https://github.com/saasitive/monitor-uptime\"\n",
    "        )\n",
    "    else:\n",
    "        print(f\"Problem with adding user {new_user} to monitor-uptime repository.\")\n",
    "        print(\"Please contact us by email: contact@saasitive.com\")"
   ]
  },
  {
   "cell_type": "code",
   "execution_count": null,
   "id": "7dc15df3",
   "metadata": {},
   "outputs": [],
   "source": []
  }
 ],
 "metadata": {
  "kernelspec": {
   "display_name": "demo_venv",
   "language": "python",
   "name": "demo_venv"
  },
  "language_info": {
   "codemirror_mode": {
    "name": "ipython",
    "version": 3
   },
   "file_extension": ".py",
   "mimetype": "text/x-python",
   "name": "python",
   "nbconvert_exporter": "python",
   "pygments_lexer": "ipython3",
   "version": "3.8.10"
  }
 },
 "nbformat": 4,
 "nbformat_minor": 5
}
