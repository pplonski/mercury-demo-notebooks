{
 "cells": [
  {
   "cell_type": "code",
   "execution_count": 2,
   "id": "11a069af",
   "metadata": {},
   "outputs": [
    {
     "data": {
      "application/mercury+json": "{\n    \"widget\": \"App\",\n    \"title\": \"Mercury Pro new user \\ud83d\\ude80\",\n    \"description\": \"Add access to Mercury Pro private repository to a new user\",\n    \"show_code\": false,\n    \"show_prompt\": false,\n    \"share\": \"public\",\n    \"output\": \"app\",\n    \"slug\": \"\",\n    \"schedule\": \"\",\n    \"notify\": \"{}\",\n    \"continuous_update\": true,\n    \"static_notebook\": false,\n    \"model_id\": \"mercury-app\",\n    \"code_uid\": \"App.0.32.23.2\"\n}",
      "text/html": [
       "<h3>Mercury Application</h3><small>This output won't appear in the web app.</small>"
      ],
      "text/plain": [
       "mercury.App"
      ]
     },
     "metadata": {},
     "output_type": "display_data"
    }
   ],
   "source": [
    "import mercury as mr\n",
    "app = mr.App(title=\"Mercury Pro new user 🚀\", \n",
    "             description=\"Add access to Mercury Pro private repository to a new user\")"
   ]
  },
  {
   "cell_type": "code",
   "execution_count": 3,
   "id": "9471d9cd",
   "metadata": {},
   "outputs": [
    {
     "data": {
      "application/mercury+json": "{\n    \"widget\": \"Note\",\n    \"value\": \"Please provide email address used during purchase and GitHub username.\",\n    \"model_id\": \"Note.0.32.17.1\",\n    \"code_uid\": \"Note.0.32.17.1\"\n}",
      "text/markdown": [
       "Please provide email address used during purchase and GitHub username."
      ],
      "text/plain": [
       "mercury.Note"
      ]
     },
     "metadata": {},
     "output_type": "display_data"
    }
   ],
   "source": [
    "_ = mr.Note(\"Please provide email address used during purchase and GitHub username.\")"
   ]
  },
  {
   "cell_type": "code",
   "execution_count": 4,
   "id": "13070526",
   "metadata": {},
   "outputs": [
    {
     "data": {
      "application/mercury+json": "{\n    \"widget\": \"Text\",\n    \"value\": \"\",\n    \"rows\": 1,\n    \"label\": \"Email used during purchase\",\n    \"model_id\": \"7c7a9290aacc42a4b69160bbd04bb19a\",\n    \"code_uid\": \"Text.0.32.13.1\"\n}",
      "application/vnd.jupyter.widget-view+json": {
       "model_id": "7c7a9290aacc42a4b69160bbd04bb19a",
       "version_major": 2,
       "version_minor": 0
      },
      "text/plain": [
       "mercury.Text"
      ]
     },
     "metadata": {},
     "output_type": "display_data"
    },
    {
     "data": {
      "application/mercury+json": "{\n    \"widget\": \"Text\",\n    \"value\": \"\",\n    \"rows\": 1,\n    \"label\": \"GitHub username\",\n    \"model_id\": \"7c349550835f4c989b84fc40bbd9f6f8\",\n    \"code_uid\": \"Text.0.32.13.2\"\n}",
      "application/vnd.jupyter.widget-view+json": {
       "model_id": "7c349550835f4c989b84fc40bbd9f6f8",
       "version_major": 2,
       "version_minor": 0
      },
      "text/plain": [
       "mercury.Text"
      ]
     },
     "metadata": {},
     "output_type": "display_data"
    }
   ],
   "source": [
    "subscriber_email = mr.Text(label=\"Email used during purchase\", value=\"\")\n",
    "new_github_user = mr.Text(label=\"GitHub username\", value=\"\")"
   ]
  },
  {
   "cell_type": "markdown",
   "id": "589b6d0e",
   "metadata": {},
   "source": [
    "# Mercury Pro new user\n",
    "\n",
    "Thanks for choosing Mercury Pro! It is a commercial license for <a href=\"https://github.com/mljar/mercury\" target=\"_blank\">Mercury</a> framework. It has additional features, dedicated support and allows white labeling.\n",
    "\n",
    "Steps get access to the Mercury Pro private repository ([github.com/mljar/mercury-pro](https://github.com/mljar/mercury-pro)):\n",
    "\n",
    "1. Please purchase [Mercury Pro license](https://mljar.com/pricing).\n",
    "2. Please provide email address used during purchase and your GitHub username in the left sidebar and click `Run`.\n",
    "3. The notebook will check if your email is in the subscribers list.\n",
    "4. If you are active subscriber to Mercury Pro license your GitHub username will be added to collaborators list for Mercury Pro repository.\n",
    "\n",
    "In the case of any questions please contact us by email `contact@mljar.com`."
   ]
  },
  {
   "cell_type": "code",
   "execution_count": null,
   "id": "47fd5765",
   "metadata": {},
   "outputs": [],
   "source": [
    "import os\n",
    "import json\n",
    "import requests\n",
    "from dotenv import load_dotenv"
   ]
  },
  {
   "cell_type": "code",
   "execution_count": null,
   "id": "e8f6ade8",
   "metadata": {},
   "outputs": [],
   "source": [
    "_ = load_dotenv()"
   ]
  },
  {
   "cell_type": "code",
   "execution_count": null,
   "id": "67052fb2",
   "metadata": {},
   "outputs": [],
   "source": [
    "ok = True  # flag to control execution"
   ]
  },
  {
   "cell_type": "code",
   "execution_count": null,
   "id": "67aa54d7",
   "metadata": {},
   "outputs": [],
   "source": [
    "if subscriber_email == \"\" or \"@\" not in subscriber_email:\n",
    "    print(\"Please provide email address\")\n",
    "    ok = False\n",
    "if new_github_user == \"\":\n",
    "    print(\"Please provide GitHub username\")\n",
    "    ok = False"
   ]
  },
  {
   "cell_type": "code",
   "execution_count": null,
   "id": "fd9dbd0f",
   "metadata": {},
   "outputs": [],
   "source": [
    "if ok:\n",
    "    response = requests.get(f\"https://api.github.com/users/{new_github_user}\").json()\n",
    "    if response.get(\"message\", \"\") == \"Not Found\":\n",
    "        print(f\"The username {new_github_user} does not exist in the GitHub.\")\n",
    "        ok = False"
   ]
  },
  {
   "cell_type": "code",
   "execution_count": null,
   "id": "a7a0a01f",
   "metadata": {},
   "outputs": [],
   "source": [
    "PADDLE_VENDOR_ID = os.environ.get(\"PADDLE_VENDOR_ID\")\n",
    "PADDLE_AUTH_CODE = os.environ.get(\"PADDLE_AUTH_CODE\")\n",
    "GITHUB_TOKEN = os.environ.get(\"GITHUB_TOKEN\")"
   ]
  },
  {
   "cell_type": "code",
   "execution_count": null,
   "id": "c7dd23b5",
   "metadata": {},
   "outputs": [],
   "source": [
    "if PADDLE_VENDOR_ID is None:\n",
    "    print(\"Please provide PADDLE_VENDOR_ID environment variable\")\n",
    "    ok = False\n",
    "if PADDLE_AUTH_CODE is None:\n",
    "    print(\"Please provide PADDLE_AUTH_CODE environment variable\")\n",
    "    ok = False\n",
    "if GITHUB_TOKEN is None:\n",
    "    print(\"Please provide GITHUB_TOKEN environment variable\")\n",
    "    ok = False"
   ]
  },
  {
   "cell_type": "code",
   "execution_count": null,
   "id": "1797c1b4",
   "metadata": {},
   "outputs": [],
   "source": [
    "if ok:\n",
    "    data = {\"vendor_id\": PADDLE_VENDOR_ID, \"vendor_auth_code\": PADDLE_AUTH_CODE}\n",
    "    response = requests.post(\n",
    "        \"https://vendors.paddle.com/api/2.0/subscription/users\", data=data\n",
    "    )\n",
    "    if response.status_code != 200:\n",
    "        print(\"Cant load list of avialable users. Sorry!\")\n",
    "        ok = False"
   ]
  },
  {
   "cell_type": "code",
   "execution_count": null,
   "id": "9645b04d",
   "metadata": {},
   "outputs": [],
   "source": [
    "active_emails = []\n",
    "if ok:\n",
    "    if response.status_code == 200:\n",
    "        subscribers = response.json()[\"response\"]\n",
    "        for sub in subscribers:\n",
    "            if sub[\"state\"] == \"active\":\n",
    "                active_emails += [sub[\"user_email\"]]"
   ]
  },
  {
   "cell_type": "code",
   "execution_count": null,
   "id": "e4427bb5",
   "metadata": {},
   "outputs": [],
   "source": [
    "if ok:\n",
    "    if not subscriber_email in active_emails:\n",
    "        print(f\"The address {subscriber_email} is not active subscriber\")\n",
    "        ok = False"
   ]
  },
  {
   "cell_type": "code",
   "execution_count": null,
   "id": "7081264c",
   "metadata": {},
   "outputs": [],
   "source": [
    "if ok:\n",
    "    response = requests.put(\n",
    "        f\"https://api.github.com/repos/mljar/mercury-pro/collaborators/{new_github_user}\",\n",
    "        headers={\n",
    "            \"Authorization\": f\"token {GITHUB_TOKEN}\",\n",
    "            \"Accept\": \"application/vnd.github+json\",\n",
    "        },\n",
    "        data=json.dumps({\"permission\": \"pull\"}),\n",
    "    )\n",
    "\n",
    "    if response.status_code == 204:\n",
    "        print(\n",
    "            \"Success, you should be able to access https://github.com/mljar/mercury-pro\"\n",
    "        )\n",
    "    else:\n",
    "        print(f\"Problem with adding user {new_user} to mercury-pro repository.\")\n",
    "        print(\"Please contact us by email: contact@mljar.com\")"
   ]
  },
  {
   "cell_type": "code",
   "execution_count": null,
   "id": "7dc15df3",
   "metadata": {},
   "outputs": [],
   "source": []
  }
 ],
 "metadata": {
  "kernelspec": {
   "display_name": "demo_venv",
   "language": "python",
   "name": "demo_venv"
  },
  "language_info": {
   "codemirror_mode": {
    "name": "ipython",
    "version": 3
   },
   "file_extension": ".py",
   "mimetype": "text/x-python",
   "name": "python",
   "nbconvert_exporter": "python",
   "pygments_lexer": "ipython3",
   "version": "3.8.10"
  }
 },
 "nbformat": 4,
 "nbformat_minor": 5
}
