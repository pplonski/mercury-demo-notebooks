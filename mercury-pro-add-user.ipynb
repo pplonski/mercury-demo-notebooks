{
 "cells": [
  {
   "cell_type": "raw",
   "id": "59feead2",
   "metadata": {},
   "source": [
    "---\n",
    "title: Mercury Pro new user 🚀\n",
    "description: Add access to Mercury Pro private repository to a new user \n",
    "show-code: False\n",
    "params:\n",
    "    header:\n",
    "        output: markdown\n",
    "        value: Please provide email address used during purchase and GitHub username.\n",
    "    subscriber_email:\n",
    "        input: text\n",
    "        label: Email used during purchase\n",
    "    new_github_user:\n",
    "        input: text\n",
    "        label: GitHub username \n",
    "---"
   ]
  },
  {
   "cell_type": "code",
   "execution_count": 1,
   "id": "13070526",
   "metadata": {},
   "outputs": [],
   "source": [
    "subscriber_email = \"\"\n",
    "new_github_user = \"\""
   ]
  },
  {
   "cell_type": "markdown",
   "id": "589b6d0e",
   "metadata": {},
   "source": [
    "# Mercury Pro new user\n",
    "\n",
    "Thanks for choosing Mercury Pro! It is a commercial license for <a href=\"https://github.com/mljar/mercury\" target=\"_blank\">Mercury</a> framework. It has additional features, dedicated support and allows white labeling.\n",
    "\n",
    "Steps get access to the Mercury Pro private repository ([github.com/mljar/mercury-pro](https://github.com/mljar/mercury-pro)):\n",
    "\n",
    "1. Please purchase [Mercury Pro license](https://mljar.com/pricing).\n",
    "2. Please provide email address used during purchase and your GitHub username in the left sidebar and click `Run`.\n",
    "3. The notebook will check if your email is in the subscribers list.\n",
    "4. If you are active subscriber to Mercury Pro license your GitHub username will be added to collaborators list for Mercury Pro repository.\n",
    "\n",
    "In the case of any questions please contact us by email `contact@mljar.com`."
   ]
  },
  {
   "cell_type": "code",
   "execution_count": 2,
   "id": "67052fb2",
   "metadata": {},
   "outputs": [],
   "source": [
    "ok = True  # flag to control execution"
   ]
  },
  {
   "cell_type": "code",
   "execution_count": 3,
   "id": "67aa54d7",
   "metadata": {},
   "outputs": [
    {
     "name": "stdout",
     "output_type": "stream",
     "text": [
      "Please provide email address\n",
      "Please provide GitHub username\n"
     ]
    }
   ],
   "source": [
    "if subscriber_email == \"\" or \"@\" not in subscriber_email:\n",
    "    print(\"Please provide email address\")\n",
    "    ok = False\n",
    "if new_github_user == \"\":\n",
    "    print(\"Please provide GitHub username\")\n",
    "    ok = False"
   ]
  },
  {
   "cell_type": "code",
   "execution_count": 4,
   "id": "fd9dbd0f",
   "metadata": {},
   "outputs": [],
   "source": [
    "if ok:\n",
    "    response = requests.get(f\"https://api.github.com/users/{new_github_user}\").json()\n",
    "    if response.get(\"message\", \"\") == \"Not Found\":\n",
    "        print(f\"The username {new_github_user} does not exist in the GitHub.\")\n",
    "        ok = False"
   ]
  },
  {
   "cell_type": "code",
   "execution_count": 5,
   "id": "72b83a1f",
   "metadata": {},
   "outputs": [],
   "source": [
    "import os\n",
    "import json\n",
    "import requests\n",
    "from dotenv import load_dotenv"
   ]
  },
  {
   "cell_type": "code",
   "execution_count": 6,
   "id": "df1ce800",
   "metadata": {},
   "outputs": [],
   "source": [
    "_ = load_dotenv()"
   ]
  },
  {
   "cell_type": "code",
   "execution_count": 7,
   "id": "a7a0a01f",
   "metadata": {},
   "outputs": [],
   "source": [
    "PADDLE_VENDOR_ID = os.environ.get(\"PADDLE_VENDOR_ID\")\n",
    "PADDLE_AUTH_CODE = os.environ.get(\"PADDLE_AUTH_CODE\")\n",
    "GITHUB_TOKEN = os.environ.get(\"GITHUB_TOKEN\")"
   ]
  },
  {
   "cell_type": "code",
   "execution_count": 8,
   "id": "c7dd23b5",
   "metadata": {},
   "outputs": [],
   "source": [
    "if PADDLE_VENDOR_ID is None:\n",
    "    print(\"Please provide PADDLE_VENDOR_ID environment variable\")\n",
    "    ok = False\n",
    "if PADDLE_AUTH_CODE is None:\n",
    "    print(\"Please provide PADDLE_AUTH_CODE environment variable\")\n",
    "    ok = False\n",
    "if GITHUB_TOKEN is None:\n",
    "    print(\"Please provide GITHUB_TOKEN environment variable\")\n",
    "    ok = False"
   ]
  },
  {
   "cell_type": "code",
   "execution_count": 9,
   "id": "1797c1b4",
   "metadata": {},
   "outputs": [],
   "source": [
    "if ok:\n",
    "    data = {\"vendor_id\": PADDLE_VENDOR_ID, \"vendor_auth_code\": PADDLE_AUTH_CODE}\n",
    "    response = requests.post(\n",
    "        \"https://vendors.paddle.com/api/2.0/subscription/users\", data=data\n",
    "    )\n",
    "    if response.status_code == 200:\n",
    "        print(\"Cant load list of avialable users. Sorry!\")\n",
    "        ok = False"
   ]
  },
  {
   "cell_type": "code",
   "execution_count": 10,
   "id": "9645b04d",
   "metadata": {},
   "outputs": [],
   "source": [
    "active_emails = []\n",
    "if ok:\n",
    "    if response.status_code == 200:\n",
    "        subscribers = response.json()[\"response\"]\n",
    "        for sub in subscribers:\n",
    "            if sub[\"state\"] == \"active\":\n",
    "                active_emails += [sub[\"user_email\"]]"
   ]
  },
  {
   "cell_type": "code",
   "execution_count": 11,
   "id": "e4427bb5",
   "metadata": {},
   "outputs": [],
   "source": [
    "if ok:\n",
    "    if not subscriber_email in active_emails:\n",
    "        print(f\"The address {subscriber_email} is not active subscriber\")\n",
    "        ok = False"
   ]
  },
  {
   "cell_type": "code",
   "execution_count": 12,
   "id": "7081264c",
   "metadata": {},
   "outputs": [],
   "source": [
    "if ok:\n",
    "    response = requests.put(\n",
    "        f\"https://api.github.com/repos/mljar/mercury-pro/collaborators/{new_github_user}\",\n",
    "        headers={\n",
    "            \"Authorization\": f\"token {GITHUB_TOKEN}\",\n",
    "            \"Accept\": \"application/vnd.github+json\",\n",
    "        },\n",
    "        data=json.dumps({\"permission\": \"pull\"}),\n",
    "    )\n",
    "\n",
    "    if response.status_code == 204:\n",
    "        print(\n",
    "            \"Success, you should be able to access https://github.com/mljar/mercury-pro\"\n",
    "        )\n",
    "    else:\n",
    "        print(f\"Problem with adding user {new_user} to mercury-pro repository.\")\n",
    "        print(\"Please contact us by email: contact@mljar.com\")"
   ]
  },
  {
   "cell_type": "code",
   "execution_count": null,
   "id": "7dc15df3",
   "metadata": {},
   "outputs": [],
   "source": []
  }
 ],
 "metadata": {
  "kernelspec": {
   "display_name": "demo_venv",
   "language": "python",
   "name": "demo_venv"
  },
  "language_info": {
   "codemirror_mode": {
    "name": "ipython",
    "version": 3
   },
   "file_extension": ".py",
   "mimetype": "text/x-python",
   "name": "python",
   "nbconvert_exporter": "python",
   "pygments_lexer": "ipython3",
   "version": "3.8.10"
  }
 },
 "nbformat": 4,
 "nbformat_minor": 5
}
